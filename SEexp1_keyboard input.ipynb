{
 "cells": [
  {
   "cell_type": "code",
   "execution_count": 3,
   "id": "84afcc2a-fb57-47f9-a869-931f6617191b",
   "metadata": {},
   "outputs": [
    {
     "name": "stdout",
     "output_type": "stream",
     "text": [
      "Weather Modeling Coefficients\n"
     ]
    },
    {
     "name": "stdin",
     "output_type": "stream",
     "text": [
      "Enter coefficient a (quadratic factor):  0.02\n",
      "Enter coefficient b (linear trend factor):  -0.3\n",
      "Enter coefficient c (base temperature):  25\n",
      "Enter time (hours from sunrise):  6\n"
     ]
    },
    {
     "name": "stdout",
     "output_type": "stream",
     "text": [
      "Weather Model: At hour 6.0, temperature = 23.92°C\n"
     ]
    }
   ],
   "source": [
    "# Input coefficients and time from user\n",
    "print(\"Weather Modeling Coefficients\")\n",
    "a = float(input(\"Enter coefficient a (quadratic factor): \"))\n",
    "b = float(input(\"Enter coefficient b (linear trend factor): \"))\n",
    "c = float(input(\"Enter coefficient c (base temperature): \"))\n",
    "x = float(input(\"Enter time (hours from sunrise): \"))\n",
    "\n",
    "# Compute the modeled temperature\n",
    "y = a * x**2 + b * x + c\n",
    "print(f\"Weather Model: At hour {x}, temperature = {y:.2f}°C\")"
   ]
  }
 ],
 "metadata": {
  "kernelspec": {
   "display_name": "Python 3 (ipykernel)",
   "language": "python",
   "name": "python3"
  },
  "language_info": {
   "codemirror_mode": {
    "name": "ipython",
    "version": 3
   },
   "file_extension": ".py",
   "mimetype": "text/x-python",
   "name": "python",
   "nbconvert_exporter": "python",
   "pygments_lexer": "ipython3",
   "version": "3.12.4"
  }
 },
 "nbformat": 4,
 "nbformat_minor": 5
}
